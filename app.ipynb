{
 "cells": [
  {
   "cell_type": "code",
   "execution_count": 1,
   "id": "95dbe205",
   "metadata": {},
   "outputs": [
    {
     "name": "stderr",
     "output_type": "stream",
     "text": [
      "2024-10-16 20:48:02.839 WARNING streamlit.runtime.scriptrunner_utils.script_run_context: Thread 'MainThread': missing ScriptRunContext! This warning can be ignored when running in bare mode.\n",
      "c:\\Users\\Madhumithra\\AppData\\Local\\Programs\\Python\\Python310\\lib\\site-packages\\tqdm\\auto.py:21: TqdmWarning: IProgress not found. Please update jupyter and ipywidgets. See https://ipywidgets.readthedocs.io/en/stable/user_install.html\n",
      "  from .autonotebook import tqdm as notebook_tqdm\n"
     ]
    }
   ],
   "source": [
    "import pandas as pd\n",
    "import streamlit as st\n",
    "from streamlit_chat import message\n",
    "from ctransformers import AutoModelForCausalLM"
   ]
  },
  {
   "cell_type": "code",
   "execution_count": 2,
   "id": "793dd1e3",
   "metadata": {},
   "outputs": [],
   "source": [
    "# Load the dataset\n",
    "data = pd.read_excel('data/dataset.xlsx')"
   ]
  },
  {
   "cell_type": "code",
   "execution_count": 3,
   "id": "8bdd1341",
   "metadata": {
    "lines_to_next_cell": 1
   },
   "outputs": [
    {
     "name": "stderr",
     "output_type": "stream",
     "text": [
      "Fetching 1 files: 100%|██████████| 1/1 [00:00<?, ?it/s]\n",
      "Fetching 1 files: 100%|██████████| 1/1 [00:00<?, ?it/s]\n"
     ]
    }
   ],
   "source": [
    "# Load the LLaMA model using CTransformers\n",
    "llm_pipeline = AutoModelForCausalLM.from_pretrained(\"TheBloke/LLaMA-2-7B-GGML\", model_type=\"llama\")"
   ]
  },
  {
   "cell_type": "code",
   "execution_count": 4,
   "id": "bf622738",
   "metadata": {
    "lines_to_next_cell": 1
   },
   "outputs": [],
   "source": [
    "# Function to fetch college details\n",
    "def get_college_info(college_name):\n",
    "    college_info = data[data['College Name'].str.contains(college_name, case=False)]\n",
    "    if college_info.empty:\n",
    "        return None\n",
    "    return college_info.iloc[0]  # Return the first matching college"
   ]
  },
  {
   "cell_type": "code",
   "execution_count": 5,
   "id": "ba0b71ec",
   "metadata": {
    "lines_to_next_cell": 1
   },
   "outputs": [],
   "source": [
    "# Function to list colleges in a specific location\n",
    "def list_colleges_in_location(location):\n",
    "    colleges = data[data['Location'].str.contains(location, case=False)]\n",
    "    if colleges.empty:\n",
    "        return \"No colleges found in that location.\"\n",
    "    return colleges['College Name'].tolist()"
   ]
  },
  {
   "cell_type": "code",
   "execution_count": 6,
   "id": "eb861c01",
   "metadata": {
    "lines_to_next_cell": 1
   },
   "outputs": [],
   "source": [
    "# Function to describe college in detail\n",
    "def describe_college(college_info):\n",
    "    college_name = college_info['College Name']\n",
    "    location = college_info['Location']\n",
    "    ownership = college_info['Ownership']\n",
    "    accreditation = college_info['Accreditation']\n",
    "    institution_type = college_info['Type of Institution']\n",
    "    admission_criteria = college_info['Admission Criteria']\n",
    "    application_process = college_info['Application Process']\n",
    "    application_fees = college_info['Application Fees']\n",
    "    scholarships = college_info['Scholarship Opportunities']\n",
    "    entrance_exams = college_info['Entrance Exams']\n",
    "    programs_offered = college_info['Programs Offered']\n",
    "    duration_of_programs = college_info['Duration of Programs']\n",
    "    curriculum_highlights = college_info['Curriculum Highlights']\n",
    "    tuition_fees = college_info['Tuition Fees']\n",
    "    other_fees = college_info['Other Fees']\n",
    "    payment_plans = college_info['Payment Plans']\n",
    "    campus_facilities = college_info['Campus Facilities']\n",
    "    placement_statistics = college_info['Placement Statistics']\n",
    "    internship_opportunities = college_info['Internship Opportunities']\n",
    "    email = college_info['Email Address']\n",
    "    website = college_info['Website URL']\n",
    "\n",
    "    return f\"\"\"\n",
    "    {college_name}, located in {location}, operates under {ownership} and holds {accreditation}. \n",
    "    As a {institution_type}, it offers {programs_offered} across various fields. \n",
    "    The admission criteria require applicants to follow the application process, which includes an application fee of ${application_fees}. \n",
    "    Scholarship opportunities are available to assist financially. \n",
    "    Entrance exams may be required for admission. \n",
    "    The programs offered span a duration of {duration_of_programs} and cover {curriculum_highlights}. \n",
    "    Tuition fees are ${tuition_fees} and other fees are ${other_fees}, with payment plans available. \n",
    "    The campus facilities support various activities. \n",
    "    Placement statistics are impressive, and internship opportunities provide industry experience. \n",
    "    For more information, contact {email} or visit {website}.\n",
    "    \"\"\""
   ]
  },
  {
   "cell_type": "code",
   "execution_count": 7,
   "id": "d93d179a",
   "metadata": {
    "lines_to_next_cell": 1
   },
   "outputs": [],
   "source": [
    "# Function to handle user queries and provide specific details\n",
    "def handle_query(college_info, query):\n",
    "    responses = {\n",
    "        \"location\": f\"The location of the specific college is in {college_info['Location']}.\",\n",
    "        \"ownership\": f\"The college is under {college_info['Ownership']} ownership.\",\n",
    "        \"accreditation\": f\"The college is accredited by {college_info['Accreditation']}.\",\n",
    "        \"type of institution\": f\"It is a {college_info['Type of Institution']}.\",\n",
    "        \"admission criteria\": f\"The admission criteria include {college_info['Admission Criteria']}.\",\n",
    "        \"application process\": f\"The application process involves {college_info['Application Process']}.\",\n",
    "        \"application fees\": f\"The application fee is ${college_info['Application Fees']}.\",\n",
    "        \"scholarship opportunities\": f\"The available scholarship opportunities include {college_info['Scholarship Opportunities']}.\",\n",
    "        \"entrance exams\": f\"The required entrance exams are {college_info['Entrance Exams']}.\",\n",
    "        \"programs offered\": f\"The programs offered are {college_info['Programs Offered']}.\",\n",
    "        \"duration of programs\": f\"The duration of the programs is {college_info['Duration of Programs']}.\",\n",
    "        \"curriculum highlights\": f\"The curriculum highlights include {college_info['Curriculum Highlights']}.\",\n",
    "        \"tuition fees\": f\"The tuition fees amount to ${college_info['Tuition Fees']}.\",\n",
    "        \"other fees\": f\"Other fees include ${college_info['Other Fees']}.\",\n",
    "        \"payment plans\": f\"The payment plans available are {college_info['Payment Plans']}.\",\n",
    "        \"campus facilities\": f\"The campus facilities include {college_info['Campus Facilities']}.\",\n",
    "        \"placement statistics\": f\"The placement statistics show {college_info['Placement Statistics']}.\",\n",
    "        \"internship opportunities\": f\"The internship opportunities available are {college_info['Internship Opportunities']}.\",\n",
    "        \"email\": f\"For inquiries, contact {college_info['Email Address']}.\",\n",
    "        \"website\": f\"More information is available at {college_info['Website URL']}.\",\n",
    "    }\n",
    "\n",
    "    for keyword, response in responses.items():\n",
    "        if keyword in query.lower():\n",
    "            return response\n",
    "\n",
    "    return \"I'm sorry, I didn't understand that. Please ask about a specific aspect of the college.\""
   ]
  },
  {
   "cell_type": "code",
   "execution_count": 8,
   "id": "191c9e2a",
   "metadata": {
    "lines_to_next_cell": 1
   },
   "outputs": [],
   "source": [
    "# Function to compare two colleges\n",
    "def compare_colleges(college_a, college_b):\n",
    "    info_a = get_college_info(college_a)\n",
    "    info_b = get_college_info(college_b)\n",
    "\n",
    "    if info_a is None or info_b is None:\n",
    "        return \"One or both college names are incorrect.\"\n",
    "\n",
    "    comparison = f\"\"\"\n",
    "    **Comparison between {college_a} and {college_b}**:\n",
    "\n",
    "    **{college_a}**:\n",
    "    - Tuition Fees: ${info_a['Tuition Fees']}\n",
    "    - Placement Statistics: {info_a['Placement Statistics']}\n",
    "\n",
    "    **{college_b}**:\n",
    "    - Tuition Fees: ${info_b['Tuition Fees']}\n",
    "    - Placement Statistics: {info_b['Placement Statistics']}\n",
    "\n",
    "    Based on the comparison, {college_a if info_a['Tuition Fees'] < info_b['Tuition Fees'] else college_b} is the better choice due to lower fees.\n",
    "    \"\"\"\n",
    "    return comparison"
   ]
  },
  {
   "cell_type": "code",
   "execution_count": 9,
   "id": "5222a3d7",
   "metadata": {
    "lines_to_next_cell": 1
   },
   "outputs": [],
   "source": [
    "# Initialize session state\n",
    "def initialize_session_state():\n",
    "    if 'history' not in st.session_state:\n",
    "        st.session_state['history'] = []\n",
    "    if 'generated' not in st.session_state:\n",
    "        st.session_state['generated'] = []\n",
    "    if 'past' not in st.session_state:\n",
    "        st.session_state['past'] = []\n",
    "    if 'current_college' not in st.session_state:\n",
    "        st.session_state['current_college'] = None\n",
    "    if 'list_location' not in st.session_state:\n",
    "        st.session_state['list_location'] = False\n",
    "    if 'compare_colleges' not in st.session_state:\n",
    "        st.session_state['compare_colleges'] = False"
   ]
  },
  {
   "cell_type": "code",
   "execution_count": 10,
   "id": "570071e1",
   "metadata": {
    "lines_to_next_cell": 1
   },
   "outputs": [],
   "source": [
    "# Display chat history\n",
    "def display_chat_history():\n",
    "    reply_container = st.container()\n",
    "    container = st.container()\n",
    "    with container:\n",
    "        with st.form(key='my_form', clear_on_submit=True):\n",
    "            user_input = st.text_input(\"Ask about a College:\", placeholder=\"Type your question here...\", key='input')\n",
    "            submit_button = st.form_submit_button(label='Send')\n",
    "        if submit_button and user_input:\n",
    "            st.session_state['past'].append(user_input)\n",
    "            handle_user_input(user_input)\n",
    "\n",
    "    if st.session_state['generated']:\n",
    "        with reply_container:\n",
    "            for i in range(len(st.session_state['generated'])):\n",
    "                message(st.session_state[\"past\"][i], is_user=True, key=str(i) + '_user', avatar_style=\"thumbs\")\n",
    "                message(st.session_state['generated'][i], key=str(i), avatar_style=\"fun-emoji\")"
   ]
  },
  {
   "cell_type": "code",
   "execution_count": 11,
   "id": "18fbcb3f",
   "metadata": {
    "lines_to_next_cell": 1
   },
   "outputs": [],
   "source": [
    "# Function to handle user input\n",
    "def handle_user_input(user_input):\n",
    "    # Check for greetings\n",
    "    if any(greet in user_input.lower() for greet in ['hello', 'hi', 'hii']):\n",
    "        st.session_state['generated'].append(\"Hello! I'm happy to assist you with any college information you need. Please mention the college name.\")\n",
    "        return\n",
    "\n",
    "    # If the user has already specified a college, continue with that college\n",
    "    if st.session_state['current_college'] is not None:\n",
    "        if \"change college\" in user_input.lower():\n",
    "            st.session_state['current_college'] = None\n",
    "            st.session_state['generated'].append(\"Please specify the college name you want to know about.\")\n",
    "            return\n",
    "\n",
    "        # Check if the user is asking for specific information\n",
    "        college_info = get_college_info(st.session_state['current_college'])\n",
    "        if college_info is not None:\n",
    "            answer = handle_query(college_info, user_input)\n",
    "            st.session_state['generated'].append(answer)\n",
    "            return\n",
    "\n",
    "    # If no current college is set, look for a college name in the input\n",
    "    if st.session_state['current_college'] is None:\n",
    "        college_info = get_college_info(user_input)\n",
    "        if college_info is not None:\n",
    "            st.session_state['current_college'] = college_info['College Name']\n",
    "            st.session_state['generated'].append(describe_college(college_info))\n",
    "            return\n",
    "\n",
    "    # Check for listing colleges\n",
    "    if \"list colleges\" in user_input.lower():\n",
    "        st.session_state['generated'].append(\"Please specify the location to list colleges.\")\n",
    "        st.session_state['list_location'] = True\n",
    "        return\n",
    "\n",
    "    # Check for location input for listing\n",
    "    if st.session_state.get('list_location'):\n",
    "        location = user_input\n",
    "        colleges = list_colleges_in_location(location)\n",
    "        st.session_state['generated'].append(f\"Colleges in {location}: {', '.join(colleges) if isinstance(colleges, list) else colleges}.\")\n",
    "        st.session_state['list_location'] = False\n",
    "        return\n",
    "\n",
    "    # Check for compare request\n",
    "    if \"compare\" in user_input.lower():\n",
    "        st.session_state['generated'].append(\"Please provide the names of the colleges you want to compare, separated by 'and'.\")\n",
    "        st.session_state['compare_colleges'] = True\n",
    "        return\n",
    "\n",
    "    # Handle college comparison\n",
    "    if st.session_state.get('compare_colleges'):\n",
    "        college_names = [name.strip() for name in user_input.split(\"and\")]\n",
    "        if len(college_names) == 2:\n",
    "            comparison_result = compare_colleges(college_names[0], college_names[1])\n",
    "            st.session_state['generated'].append(comparison_result)\n",
    "        else:\n",
    "            st.session_state['generated'].append(\"Please specify exactly two colleges to compare.\")\n",
    "        st.session_state['compare_colleges'] = False\n",
    "        return\n",
    "\n",
    "    # Default response\n",
    "    st.session_state['generated'].append(\"I'm sorry, I didn't understand that. Please ask again.\")"
   ]
  },
  {
   "cell_type": "code",
   "execution_count": 12,
   "id": "8a51e7c7",
   "metadata": {},
   "outputs": [
    {
     "name": "stderr",
     "output_type": "stream",
     "text": [
      "2024-10-16 20:48:08.895 WARNING streamlit.runtime.scriptrunner_utils.script_run_context: Thread 'MainThread': missing ScriptRunContext! This warning can be ignored when running in bare mode.\n",
      "2024-10-16 20:48:08.896 WARNING streamlit.runtime.state.session_state_proxy: Session state does not function when running a script without `streamlit run`\n",
      "2024-10-16 20:48:08.898 WARNING streamlit.runtime.scriptrunner_utils.script_run_context: Thread 'MainThread': missing ScriptRunContext! This warning can be ignored when running in bare mode.\n",
      "2024-10-16 20:48:08.899 WARNING streamlit.runtime.scriptrunner_utils.script_run_context: Thread 'MainThread': missing ScriptRunContext! This warning can be ignored when running in bare mode.\n",
      "2024-10-16 20:48:08.900 WARNING streamlit.runtime.scriptrunner_utils.script_run_context: Thread 'MainThread': missing ScriptRunContext! This warning can be ignored when running in bare mode.\n",
      "2024-10-16 20:48:08.901 WARNING streamlit.runtime.scriptrunner_utils.script_run_context: Thread 'MainThread': missing ScriptRunContext! This warning can be ignored when running in bare mode.\n",
      "2024-10-16 20:48:08.902 WARNING streamlit.runtime.scriptrunner_utils.script_run_context: Thread 'MainThread': missing ScriptRunContext! This warning can be ignored when running in bare mode.\n",
      "2024-10-16 20:48:08.905 WARNING streamlit.runtime.scriptrunner_utils.script_run_context: Thread 'MainThread': missing ScriptRunContext! This warning can be ignored when running in bare mode.\n",
      "2024-10-16 20:48:08.906 WARNING streamlit.runtime.scriptrunner_utils.script_run_context: Thread 'MainThread': missing ScriptRunContext! This warning can be ignored when running in bare mode.\n",
      "2024-10-16 20:48:08.907 WARNING streamlit.runtime.scriptrunner_utils.script_run_context: Thread 'MainThread': missing ScriptRunContext! This warning can be ignored when running in bare mode.\n",
      "2024-10-16 20:48:08.908 WARNING streamlit.runtime.scriptrunner_utils.script_run_context: Thread 'MainThread': missing ScriptRunContext! This warning can be ignored when running in bare mode.\n",
      "2024-10-16 20:48:08.909 WARNING streamlit.runtime.scriptrunner_utils.script_run_context: Thread 'MainThread': missing ScriptRunContext! This warning can be ignored when running in bare mode.\n",
      "2024-10-16 20:48:08.910 WARNING streamlit.runtime.scriptrunner_utils.script_run_context: Thread 'MainThread': missing ScriptRunContext! This warning can be ignored when running in bare mode.\n",
      "2024-10-16 20:48:08.910 WARNING streamlit.runtime.scriptrunner_utils.script_run_context: Thread 'MainThread': missing ScriptRunContext! This warning can be ignored when running in bare mode.\n",
      "2024-10-16 20:48:08.911 WARNING streamlit.runtime.scriptrunner_utils.script_run_context: Thread 'MainThread': missing ScriptRunContext! This warning can be ignored when running in bare mode.\n",
      "2024-10-16 20:48:08.912 WARNING streamlit.runtime.scriptrunner_utils.script_run_context: Thread 'MainThread': missing ScriptRunContext! This warning can be ignored when running in bare mode.\n",
      "2024-10-16 20:48:08.913 WARNING streamlit.runtime.scriptrunner_utils.script_run_context: Thread 'MainThread': missing ScriptRunContext! This warning can be ignored when running in bare mode.\n",
      "2024-10-16 20:48:08.913 WARNING streamlit.runtime.scriptrunner_utils.script_run_context: Thread 'MainThread': missing ScriptRunContext! This warning can be ignored when running in bare mode.\n",
      "2024-10-16 20:48:08.914 WARNING streamlit.runtime.scriptrunner_utils.script_run_context: Thread 'MainThread': missing ScriptRunContext! This warning can be ignored when running in bare mode.\n"
     ]
    }
   ],
   "source": [
    "# Initialize session state\n",
    "initialize_session_state()"
   ]
  },
  {
   "cell_type": "code",
   "execution_count": 13,
   "id": "15e5d88c",
   "metadata": {},
   "outputs": [
    {
     "name": "stderr",
     "output_type": "stream",
     "text": [
      "2024-10-16 20:48:08.928 WARNING streamlit.runtime.scriptrunner_utils.script_run_context: Thread 'MainThread': missing ScriptRunContext! This warning can be ignored when running in bare mode.\n",
      "2024-10-16 20:48:09.203 \n",
      "  \u001b[33m\u001b[1mWarning:\u001b[0m to view this Streamlit app on a browser, run it with the following\n",
      "  command:\n",
      "\n",
      "    streamlit run C:\\Users\\Madhumithra\\AppData\\Roaming\\Python\\Python310\\site-packages\\ipykernel_launcher.py [ARGUMENTS]\n",
      "2024-10-16 20:48:09.203 Thread 'MainThread': missing ScriptRunContext! This warning can be ignored when running in bare mode.\n",
      "2024-10-16 20:48:09.205 Thread 'MainThread': missing ScriptRunContext! This warning can be ignored when running in bare mode.\n",
      "2024-10-16 20:48:09.206 Thread 'MainThread': missing ScriptRunContext! This warning can be ignored when running in bare mode.\n",
      "2024-10-16 20:48:09.206 Thread 'MainThread': missing ScriptRunContext! This warning can be ignored when running in bare mode.\n",
      "2024-10-16 20:48:09.206 Thread 'MainThread': missing ScriptRunContext! This warning can be ignored when running in bare mode.\n",
      "2024-10-16 20:48:09.206 Thread 'MainThread': missing ScriptRunContext! This warning can be ignored when running in bare mode.\n",
      "2024-10-16 20:48:09.206 Thread 'MainThread': missing ScriptRunContext! This warning can be ignored when running in bare mode.\n",
      "2024-10-16 20:48:09.206 Thread 'MainThread': missing ScriptRunContext! This warning can be ignored when running in bare mode.\n",
      "2024-10-16 20:48:09.206 Thread 'MainThread': missing ScriptRunContext! This warning can be ignored when running in bare mode.\n",
      "2024-10-16 20:48:09.206 Thread 'MainThread': missing ScriptRunContext! This warning can be ignored when running in bare mode.\n",
      "2024-10-16 20:48:09.206 Thread 'MainThread': missing ScriptRunContext! This warning can be ignored when running in bare mode.\n",
      "2024-10-16 20:48:09.206 Thread 'MainThread': missing ScriptRunContext! This warning can be ignored when running in bare mode.\n",
      "2024-10-16 20:48:09.206 Thread 'MainThread': missing ScriptRunContext! This warning can be ignored when running in bare mode.\n",
      "2024-10-16 20:48:09.206 Thread 'MainThread': missing ScriptRunContext! This warning can be ignored when running in bare mode.\n",
      "2024-10-16 20:48:09.206 Thread 'MainThread': missing ScriptRunContext! This warning can be ignored when running in bare mode.\n",
      "2024-10-16 20:48:09.206 Thread 'MainThread': missing ScriptRunContext! This warning can be ignored when running in bare mode.\n",
      "2024-10-16 20:48:09.206 Thread 'MainThread': missing ScriptRunContext! This warning can be ignored when running in bare mode.\n"
     ]
    }
   ],
   "source": [
    "# Layout the application\n",
    "st.title(\"🎓 College Infobot 📚\")\n",
    "display_chat_history()"
   ]
  }
 ],
 "metadata": {
  "jupytext": {
   "cell_metadata_filter": "-all",
   "main_language": "python",
   "notebook_metadata_filter": "-all"
  },
  "kernelspec": {
   "display_name": "Python 3",
   "language": "python",
   "name": "python3"
  },
  "language_info": {
   "codemirror_mode": {
    "name": "ipython",
    "version": 3
   },
   "file_extension": ".py",
   "mimetype": "text/x-python",
   "name": "python",
   "nbconvert_exporter": "python",
   "pygments_lexer": "ipython3",
   "version": "3.10.0"
  }
 },
 "nbformat": 4,
 "nbformat_minor": 5
}
